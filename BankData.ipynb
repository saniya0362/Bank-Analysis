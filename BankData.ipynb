{
 "cells": [
  {
   "cell_type": "markdown",
   "id": "6b41e567-aadf-4e31-b79d-52af24cdcb05",
   "metadata": {},
   "source": [
    "# Bank Customer Analysis"
   ]
  },
  {
   "cell_type": "markdown",
   "id": "e02c4b0f-1d97-4605-b97e-a63768bcc4d8",
   "metadata": {},
   "source": [
    "### Import necessary Python libraries"
   ]
  },
  {
   "cell_type": "code",
   "execution_count": 2,
   "id": "38c16547-49fa-4a9c-a378-7f91c168dd3b",
   "metadata": {},
   "outputs": [],
   "source": [
    "import numpy as np\n",
    "import pandas as pd"
   ]
  },
  {
   "cell_type": "markdown",
   "id": "aa89d5b2-2d59-4be6-9165-d4876ba7e71d",
   "metadata": {},
   "source": [
    "### Load Sheet 1 and Sheet 2 "
   ]
  },
  {
   "cell_type": "code",
   "execution_count": 3,
   "id": "00ff97c2-c845-4ea2-a8f8-079944b72eff",
   "metadata": {},
   "outputs": [
    {
     "name": "stdout",
     "output_type": "stream",
     "text": [
      "       CustomerId    Surname  CreditScore Geography  Gender   Age  Tenure  \\\n",
      "0        15634602   Hargrave          619       FRA  Female  42.0       2   \n",
      "1        15647311       Hill          608     Spain  Female  41.0       1   \n",
      "2        15619304       Onio          502    French  Female  42.0       8   \n",
      "3        15701354       Boni          699       FRA  Female  39.0       1   \n",
      "4        15737888   Mitchell          850     Spain  Female  43.0       2   \n",
      "...           ...        ...          ...       ...     ...   ...     ...   \n",
      "9996     15569892  Johnstone          516    French    Male  35.0      10   \n",
      "9997     15584532        Liu          709       FRA  Female  36.0       7   \n",
      "9998     15682355  Sabbatini          772   Germany    Male  42.0       3   \n",
      "9999     15628319     Walker          792    French  Female  28.0       4   \n",
      "10000    15628319     Walker          792    French  Female  28.0       4   \n",
      "\n",
      "      EstimatedSalary  \n",
      "0          €101348.88  \n",
      "1          €112542.58  \n",
      "2          €113931.57  \n",
      "3           €93826.63  \n",
      "4            €79084.1  \n",
      "...               ...  \n",
      "9996       €101699.77  \n",
      "9997        €42085.58  \n",
      "9998        €92888.52  \n",
      "9999        €38190.78  \n",
      "10000       €38190.78  \n",
      "\n",
      "[10001 rows x 8 columns]\n"
     ]
    }
   ],
   "source": [
    "sheet1 = pd.read_excel(\"C:/Users/Arshad/Desktop/Datasets/Datasets for unguided Projects/Bank Churn Data/Bank_Churn_Messy.xlsx\", sheet_name = 'Customer_Info')\n",
    "df1 = pd.DataFrame(sheet1)\n",
    "print(df1)"
   ]
  },
  {
   "cell_type": "code",
   "execution_count": 5,
   "id": "e4fe5ef6-caf1-44ce-9106-d9d96337eeee",
   "metadata": {},
   "outputs": [
    {
     "name": "stdout",
     "output_type": "stream",
     "text": [
      "       CustomerId     Balance  NumOfProducts HasCrCard  Tenure IsActiveMember  \\\n",
      "0        15634602        €0.0              1       Yes       2            Yes   \n",
      "1        15634602        €0.0              1       Yes       2            Yes   \n",
      "2        15647311   €83807.86              1       Yes       1            Yes   \n",
      "3        15619304   €159660.8              3        No       8             No   \n",
      "4        15701354        €0.0              2        No       1             No   \n",
      "...           ...         ...            ...       ...     ...            ...   \n",
      "9997     15569892   €57369.61              1       Yes      10            Yes   \n",
      "9998     15584532        €0.0              1       Yes       7            Yes   \n",
      "9999     15682355   €75075.31              2        No       3             No   \n",
      "10000    15628319  €130142.79              1        No       4             No   \n",
      "10001    15628319  €130142.79              1        No       4             No   \n",
      "\n",
      "       Exited  \n",
      "0           1  \n",
      "1           1  \n",
      "2           0  \n",
      "3           1  \n",
      "4           0  \n",
      "...       ...  \n",
      "9997        0  \n",
      "9998        1  \n",
      "9999        1  \n",
      "10000       0  \n",
      "10001       0  \n",
      "\n",
      "[10002 rows x 7 columns]\n"
     ]
    }
   ],
   "source": [
    "sheet2 = pd.read_excel(\"C:/Users/Arshad/Desktop/Datasets/Datasets for unguided Projects/Bank Churn Data/Bank_Churn_Messy.xlsx\", sheet_name = 'Account_Info')\n",
    "df2 = pd.DataFrame(sheet2)\n",
    "print(df2)"
   ]
  },
  {
   "cell_type": "markdown",
   "id": "4dac9a99-7f71-422c-a3af-21488d854318",
   "metadata": {},
   "source": [
    "### Checked Data Info."
   ]
  },
  {
   "cell_type": "code",
   "execution_count": 6,
   "id": "2d393c3c-9e1b-4c83-9e02-8408d53fa727",
   "metadata": {},
   "outputs": [
    {
     "name": "stdout",
     "output_type": "stream",
     "text": [
      "<class 'pandas.core.frame.DataFrame'>\n",
      "RangeIndex: 10001 entries, 0 to 10000\n",
      "Data columns (total 8 columns):\n",
      " #   Column           Non-Null Count  Dtype  \n",
      "---  ------           --------------  -----  \n",
      " 0   CustomerId       10001 non-null  int64  \n",
      " 1   Surname          9998 non-null   object \n",
      " 2   CreditScore      10001 non-null  int64  \n",
      " 3   Geography        10001 non-null  object \n",
      " 4   Gender           10001 non-null  object \n",
      " 5   Age              9998 non-null   float64\n",
      " 6   Tenure           10001 non-null  int64  \n",
      " 7   EstimatedSalary  10001 non-null  object \n",
      "dtypes: float64(1), int64(3), object(4)\n",
      "memory usage: 625.2+ KB\n",
      "None\n",
      "Index(['CustomerId', 'Surname', 'CreditScore', 'Geography', 'Gender', 'Age',\n",
      "       'Tenure', 'EstimatedSalary'],\n",
      "      dtype='object')\n",
      "<class 'pandas.core.frame.DataFrame'>\n",
      "RangeIndex: 10002 entries, 0 to 10001\n",
      "Data columns (total 7 columns):\n",
      " #   Column          Non-Null Count  Dtype \n",
      "---  ------          --------------  ----- \n",
      " 0   CustomerId      10002 non-null  int64 \n",
      " 1   Balance         10002 non-null  object\n",
      " 2   NumOfProducts   10002 non-null  int64 \n",
      " 3   HasCrCard       10002 non-null  object\n",
      " 4   Tenure          10002 non-null  int64 \n",
      " 5   IsActiveMember  10002 non-null  object\n",
      " 6   Exited          10002 non-null  int64 \n",
      "dtypes: int64(4), object(3)\n",
      "memory usage: 547.1+ KB\n",
      "None\n"
     ]
    }
   ],
   "source": [
    "print(df1.info())\n",
    "df1.columns = df1.columns.str.strip()\n",
    "print(df1.columns)\n",
    "\n",
    "\n",
    "\n",
    "print(df2.info())\n",
    "df2.columns = df2.columns.str.strip()"
   ]
  },
  {
   "cell_type": "markdown",
   "id": "12daad09-dfe2-4022-adc5-e4b3395b2947",
   "metadata": {},
   "source": [
    "### Check for Duplicate and Drop"
   ]
  },
  {
   "cell_type": "code",
   "execution_count": 7,
   "id": "d9ff291e-4dbb-4f98-9b9d-74222313bb8f",
   "metadata": {},
   "outputs": [
    {
     "name": "stdout",
     "output_type": "stream",
     "text": [
      "1\n",
      "<class 'pandas.core.frame.DataFrame'>\n",
      "Index: 10000 entries, 0 to 9999\n",
      "Data columns (total 8 columns):\n",
      " #   Column           Non-Null Count  Dtype  \n",
      "---  ------           --------------  -----  \n",
      " 0   CustomerId       10000 non-null  int64  \n",
      " 1   Surname          9997 non-null   object \n",
      " 2   CreditScore      10000 non-null  int64  \n",
      " 3   Geography        10000 non-null  object \n",
      " 4   Gender           10000 non-null  object \n",
      " 5   Age              9997 non-null   float64\n",
      " 6   Tenure           10000 non-null  int64  \n",
      " 7   EstimatedSalary  10000 non-null  object \n",
      "dtypes: float64(1), int64(3), object(4)\n",
      "memory usage: 703.1+ KB\n",
      "None\n",
      "  \n",
      "2\n",
      "<class 'pandas.core.frame.DataFrame'>\n",
      "Index: 10000 entries, 0 to 10000\n",
      "Data columns (total 7 columns):\n",
      " #   Column          Non-Null Count  Dtype \n",
      "---  ------          --------------  ----- \n",
      " 0   CustomerId      10000 non-null  int64 \n",
      " 1   Balance         10000 non-null  object\n",
      " 2   NumOfProducts   10000 non-null  int64 \n",
      " 3   HasCrCard       10000 non-null  object\n",
      " 4   Tenure          10000 non-null  int64 \n",
      " 5   IsActiveMember  10000 non-null  object\n",
      " 6   Exited          10000 non-null  int64 \n",
      "dtypes: int64(4), object(3)\n",
      "memory usage: 625.0+ KB\n",
      "None\n"
     ]
    }
   ],
   "source": [
    "print(df1[\"CustomerId\"].duplicated().sum())\n",
    "df1 = df1.drop_duplicates([\"CustomerId\"])\n",
    "print(df1.info())\n",
    "\n",
    "print(\"  \")\n",
    "\n",
    "print(df2[\"CustomerId\"].duplicated().sum())\n",
    "df2 = df2.drop_duplicates([\"CustomerId\"])\n",
    "print(df2.info())"
   ]
  },
  {
   "cell_type": "markdown",
   "id": "9df8f35e-6d62-4f24-84e0-805e840b5859",
   "metadata": {},
   "source": [
    "### Check for Missing Values"
   ]
  },
  {
   "cell_type": "code",
   "execution_count": 8,
   "id": "494f7322-c3de-4bed-89f6-2e21c1d79070",
   "metadata": {},
   "outputs": [
    {
     "name": "stdout",
     "output_type": "stream",
     "text": [
      "CustomerId         0\n",
      "Surname            3\n",
      "CreditScore        0\n",
      "Geography          0\n",
      "Gender             0\n",
      "Age                3\n",
      "Tenure             0\n",
      "EstimatedSalary    0\n",
      "dtype: int64\n",
      "  \n",
      "CustomerId        0\n",
      "Balance           0\n",
      "NumOfProducts     0\n",
      "HasCrCard         0\n",
      "Tenure            0\n",
      "IsActiveMember    0\n",
      "Exited            0\n",
      "dtype: int64\n"
     ]
    }
   ],
   "source": [
    "print(df1.isnull().sum())\n",
    "\n",
    "print(\"  \")\n",
    "\n",
    "print(df2.isnull().sum())"
   ]
  },
  {
   "cell_type": "markdown",
   "id": "f775e812-2d79-4bf6-8138-d40446401228",
   "metadata": {},
   "source": [
    "### Handle Null Values"
   ]
  },
  {
   "cell_type": "code",
   "execution_count": 9,
   "id": "874212bc-fed8-44e4-9336-888ae769f0e1",
   "metadata": {},
   "outputs": [
    {
     "name": "stdout",
     "output_type": "stream",
     "text": [
      "CustomerId         0\n",
      "Surname            0\n",
      "CreditScore        0\n",
      "Geography          0\n",
      "Gender             0\n",
      "Age                0\n",
      "Tenure             0\n",
      "EstimatedSalary    0\n",
      "dtype: int64\n",
      "   CustomerId   Surname  CreditScore Geography  Gender   Age  Tenure  \\\n",
      "0    15634602  Hargrave          619       FRA  Female  42.0       2   \n",
      "1    15647311      Hill          608     Spain  Female  41.0       1   \n",
      "2    15619304      Onio          502    French  Female  42.0       8   \n",
      "3    15701354      Boni          699       FRA  Female  39.0       1   \n",
      "4    15737888  Mitchell          850     Spain  Female  43.0       2   \n",
      "\n",
      "  EstimatedSalary  \n",
      "0      €101348.88  \n",
      "1      €112542.58  \n",
      "2      €113931.57  \n",
      "3       €93826.63  \n",
      "4        €79084.1  \n"
     ]
    },
    {
     "name": "stderr",
     "output_type": "stream",
     "text": [
      "C:\\Users\\Arshad\\AppData\\Local\\Temp\\ipykernel_107236\\2655068749.py:1: FutureWarning: A value is trying to be set on a copy of a DataFrame or Series through chained assignment using an inplace method.\n",
      "The behavior will change in pandas 3.0. This inplace method will never work because the intermediate object on which we are setting values always behaves as a copy.\n",
      "\n",
      "For example, when doing 'df[col].method(value, inplace=True)', try using 'df.method({col: value}, inplace=True)' or df[col] = df[col].method(value) instead, to perform the operation inplace on the original object.\n",
      "\n",
      "\n",
      "  df1[\"Surname\"].fillna(method= \"ffill\", inplace= True)\n",
      "C:\\Users\\Arshad\\AppData\\Local\\Temp\\ipykernel_107236\\2655068749.py:1: FutureWarning: Series.fillna with 'method' is deprecated and will raise in a future version. Use obj.ffill() or obj.bfill() instead.\n",
      "  df1[\"Surname\"].fillna(method= \"ffill\", inplace= True)\n",
      "C:\\Users\\Arshad\\AppData\\Local\\Temp\\ipykernel_107236\\2655068749.py:2: FutureWarning: A value is trying to be set on a copy of a DataFrame or Series through chained assignment using an inplace method.\n",
      "The behavior will change in pandas 3.0. This inplace method will never work because the intermediate object on which we are setting values always behaves as a copy.\n",
      "\n",
      "For example, when doing 'df[col].method(value, inplace=True)', try using 'df.method({col: value}, inplace=True)' or df[col] = df[col].method(value) instead, to perform the operation inplace on the original object.\n",
      "\n",
      "\n",
      "  df1[\"Age\"].fillna(df1[\"Age\"].mean(), inplace= True)\n"
     ]
    }
   ],
   "source": [
    "df1[\"Surname\"].fillna(method= \"ffill\", inplace= True)\n",
    "df1[\"Age\"].fillna(df1[\"Age\"].mean(), inplace= True)\n",
    "\n",
    "print(df1.isnull().sum())\n",
    "print(df1.head())"
   ]
  },
  {
   "cell_type": "markdown",
   "id": "0dfc087b-dc27-4c11-b4fd-7b62bf7c2920",
   "metadata": {},
   "source": [
    " ### Check uniquess of Column"
   ]
  },
  {
   "cell_type": "code",
   "execution_count": 10,
   "id": "f2d6ebf9-1fca-4e3d-a960-457166985153",
   "metadata": {},
   "outputs": [
    {
     "name": "stdout",
     "output_type": "stream",
     "text": [
      "['FRA' 'Spain' 'French' 'France' 'Germany']\n"
     ]
    }
   ],
   "source": [
    "print(df1['Geography'].unique())"
   ]
  },
  {
   "cell_type": "markdown",
   "id": "cf717ba4-992e-42f4-81db-2f75da889218",
   "metadata": {},
   "source": [
    "### Replace `French`/`FRA` → `France`  \n",
    "### Remove `€` symbol from Balance & Estimated Salary"
   ]
  },
  {
   "cell_type": "code",
   "execution_count": 11,
   "id": "2a6288bc-0bed-4f9a-8c05-1d25b255a0a3",
   "metadata": {},
   "outputs": [
    {
     "name": "stdout",
     "output_type": "stream",
     "text": [
      "   CustomerId   Surname  CreditScore Geography  Gender   Age  Tenure  \\\n",
      "0    15634602  Hargrave          619    France  Female  42.0       2   \n",
      "1    15647311      Hill          608     Spain  Female  41.0       1   \n",
      "2    15619304      Onio          502    France  Female  42.0       8   \n",
      "3    15701354      Boni          699    France  Female  39.0       1   \n",
      "4    15737888  Mitchell          850     Spain  Female  43.0       2   \n",
      "\n",
      "   EstimatedSalary  \n",
      "0        101348.88  \n",
      "1        112542.58  \n",
      "2        113931.57  \n",
      "3         93826.63  \n",
      "4         79084.10  \n",
      "   \n",
      "   CustomerId    Balance  NumOfProducts HasCrCard  Tenure IsActiveMember  \\\n",
      "0    15634602       0.00              1       Yes       2            Yes   \n",
      "2    15647311   83807.86              1       Yes       1            Yes   \n",
      "3    15619304  159660.80              3        No       8             No   \n",
      "4    15701354       0.00              2        No       1             No   \n",
      "5    15737888  125510.82              1       Yes       2            Yes   \n",
      "\n",
      "   Exited  \n",
      "0       1  \n",
      "2       0  \n",
      "3       1  \n",
      "4       0  \n",
      "5       0  \n"
     ]
    }
   ],
   "source": [
    "df1[\"Geography\"] = df1[\"Geography\"].replace({\"FRA\": \"France\", \"French\": \"France\"})\n",
    "df1['EstimatedSalary'] = df1['EstimatedSalary'].astype(str).str.replace('€','',).astype(float)\n",
    "\n",
    "df2[\"Balance\"] = df2[\"Balance\"].astype(str).str.replace(\"€\", \"\",).astype(float)\n",
    "\n",
    "print(df1.head())\n",
    "\n",
    "print(\"\"\"   \"\"\")\n",
    "\n",
    "print(df2.head())"
   ]
  },
  {
   "cell_type": "markdown",
   "id": "591abc4e-e90b-478d-b7fb-2e7eeb10d95f",
   "metadata": {},
   "source": [
    " ### Drop Tenure column from one sheet"
   ]
  },
  {
   "cell_type": "code",
   "execution_count": 12,
   "id": "19e63995-d662-4fbe-827c-909b6a8950d5",
   "metadata": {},
   "outputs": [],
   "source": [
    "df2.drop('Tenure', axis = 1 , inplace = True)"
   ]
  },
  {
   "cell_type": "markdown",
   "id": "413d80b7-c04e-4b5b-b393-6b9b51b6c211",
   "metadata": {},
   "source": [
    "### Merge datasets on **Customer ID**"
   ]
  },
  {
   "cell_type": "code",
   "execution_count": 13,
   "id": "e1dad179-6ed0-4271-af78-35d3c16b168c",
   "metadata": {},
   "outputs": [
    {
     "name": "stdout",
     "output_type": "stream",
     "text": [
      "      CustomerId    Surname  CreditScore Geography  Gender   Age  Tenure  \\\n",
      "0       15634602   Hargrave          619    France  Female  42.0       2   \n",
      "1       15647311       Hill          608     Spain  Female  41.0       1   \n",
      "2       15619304       Onio          502    France  Female  42.0       8   \n",
      "3       15701354       Boni          699    France  Female  39.0       1   \n",
      "4       15737888   Mitchell          850     Spain  Female  43.0       2   \n",
      "...          ...        ...          ...       ...     ...   ...     ...   \n",
      "9995    15606229   Obijiaku          771    France    Male  39.0       5   \n",
      "9996    15569892  Johnstone          516    France    Male  35.0      10   \n",
      "9997    15584532        Liu          709    France  Female  36.0       7   \n",
      "9998    15682355  Sabbatini          772   Germany    Male  42.0       3   \n",
      "9999    15628319     Walker          792    France  Female  28.0       4   \n",
      "\n",
      "      EstimatedSalary    Balance  NumOfProducts HasCrCard IsActiveMember  \\\n",
      "0           101348.88       0.00              1       Yes            Yes   \n",
      "1           112542.58   83807.86              1       Yes            Yes   \n",
      "2           113931.57  159660.80              3        No             No   \n",
      "3            93826.63       0.00              2        No             No   \n",
      "4            79084.10  125510.82              1       Yes            Yes   \n",
      "...               ...        ...            ...       ...            ...   \n",
      "9995         96270.64       0.00              2        No             No   \n",
      "9996        101699.77   57369.61              1       Yes            Yes   \n",
      "9997         42085.58       0.00              1       Yes            Yes   \n",
      "9998         92888.52   75075.31              2        No             No   \n",
      "9999         38190.78  130142.79              1        No             No   \n",
      "\n",
      "      Exited  \n",
      "0          1  \n",
      "1          0  \n",
      "2          1  \n",
      "3          0  \n",
      "4          0  \n",
      "...      ...  \n",
      "9995       0  \n",
      "9996       0  \n",
      "9997       1  \n",
      "9998       1  \n",
      "9999       0  \n",
      "\n",
      "[10000 rows x 13 columns]\n"
     ]
    }
   ],
   "source": [
    "df = pd.merge(df1, df2, on = \"CustomerId\", how = \"inner\")\n",
    "print(df)"
   ]
  },
  {
   "cell_type": "markdown",
   "id": "427be8ba-1804-4457-bb5f-3cfeaa783dfc",
   "metadata": {},
   "source": [
    "### Convert Age, Balance, Estimated Salary → integer  "
   ]
  },
  {
   "cell_type": "code",
   "execution_count": 14,
   "id": "0b9147a8-4497-44cf-882a-f758e91e5772",
   "metadata": {},
   "outputs": [
    {
     "name": "stdout",
     "output_type": "stream",
     "text": [
      "<class 'pandas.core.frame.DataFrame'>\n",
      "RangeIndex: 10000 entries, 0 to 9999\n",
      "Data columns (total 13 columns):\n",
      " #   Column           Non-Null Count  Dtype  \n",
      "---  ------           --------------  -----  \n",
      " 0   CustomerId       10000 non-null  int64  \n",
      " 1   Surname          10000 non-null  object \n",
      " 2   CreditScore      10000 non-null  int64  \n",
      " 3   Geography        10000 non-null  object \n",
      " 4   Gender           10000 non-null  object \n",
      " 5   Age              10000 non-null  int64  \n",
      " 6   Tenure           10000 non-null  int64  \n",
      " 7   EstimatedSalary  10000 non-null  float64\n",
      " 8   Balance          10000 non-null  float64\n",
      " 9   NumOfProducts    10000 non-null  int64  \n",
      " 10  HasCrCard        10000 non-null  object \n",
      " 11  IsActiveMember   10000 non-null  object \n",
      " 12  Exited           10000 non-null  int64  \n",
      "dtypes: float64(2), int64(6), object(5)\n",
      "memory usage: 1015.8+ KB\n",
      "None\n"
     ]
    }
   ],
   "source": [
    "df = df.astype({'Age': int, 'EstimatedSalary': float, 'Balance': float})\n",
    "print(df.info())"
   ]
  },
  {
   "cell_type": "markdown",
   "id": "971b2c12-6a82-4517-86e9-a33a86b5bbaf",
   "metadata": {},
   "source": [
    "### Check for negatives in Balance & Estimated Salary  "
   ]
  },
  {
   "cell_type": "code",
   "execution_count": 15,
   "id": "637fcfa4-63ed-4b36-937e-0fef246fb9aa",
   "metadata": {},
   "outputs": [
    {
     "name": "stdout",
     "output_type": "stream",
     "text": [
      "      CustomerId   Surname  CreditScore Geography  Gender  Age  Tenure  \\\n",
      "28      15728693   Nebechi          574   Germany  Female   38       3   \n",
      "121     15580203  Culbreth          674     Spain    Male   38       6   \n",
      "9389    15756954      Nagy          538    France  Female   38       2   \n",
      "\n",
      "      EstimatedSalary    Balance  NumOfProducts HasCrCard IsActiveMember  \\\n",
      "28          -999999.0  141349.43              1       Yes            Yes   \n",
      "121         -999999.0  120193.42              1        No             No   \n",
      "9389        -999999.0       0.00              1       Yes            Yes   \n",
      "\n",
      "      Exited  \n",
      "28         0  \n",
      "121        0  \n",
      "9389       0  \n",
      "Empty DataFrame\n",
      "Columns: [CustomerId, Surname, CreditScore, Geography, Gender, Age, Tenure, EstimatedSalary, Balance, NumOfProducts, HasCrCard, IsActiveMember, Exited]\n",
      "Index: []\n"
     ]
    }
   ],
   "source": [
    "negative_salaries = df[df[\"EstimatedSalary\"] < 0]\n",
    "print(negative_salaries)\n",
    "negative_Balance = df[df['Balance']<0]\n",
    "\n",
    "\n",
    "print(negative_Balance)"
   ]
  },
  {
   "cell_type": "markdown",
   "id": "291d3efa-27e8-4788-8527-061e6c62e81b",
   "metadata": {},
   "source": [
    "### Replace negatives with mean values"
   ]
  },
  {
   "cell_type": "code",
   "execution_count": 16,
   "id": "b9603b3d-7cc0-4c96-8e0e-348018bda180",
   "metadata": {},
   "outputs": [
    {
     "name": "stdout",
     "output_type": "stream",
     "text": [
      "0       101348.88\n",
      "1       112542.58\n",
      "2       113931.57\n",
      "3        93826.63\n",
      "4        79084.10\n",
      "          ...    \n",
      "9995     96270.64\n",
      "9996    101699.77\n",
      "9997     42085.58\n",
      "9998     92888.52\n",
      "9999     38190.78\n",
      "Name: EstimatedSalary, Length: 10000, dtype: float64\n"
     ]
    }
   ],
   "source": [
    "mean_salary = df.loc[df['EstimatedSalary'] >= 0, 'EstimatedSalary'].mean()\n",
    "\n",
    "df['EstimatedSalary'] = df['EstimatedSalary'].apply(lambda x: mean_salary if x < 0 else x)\n",
    "\n",
    "print(df['EstimatedSalary'])"
   ]
  },
  {
   "cell_type": "markdown",
   "id": "89f5d1e2-992b-4853-9b34-6fd4c21ec7ab",
   "metadata": {},
   "source": [
    "### Create Categorical Bands and Range Based Columns \n",
    "### Credit Score, Age, Tenure, Balance, Salary "
   ]
  },
  {
   "cell_type": "code",
   "execution_count": 17,
   "id": "218e136e-c21d-48fe-a376-fa2ce66c80e5",
   "metadata": {},
   "outputs": [
    {
     "name": "stdout",
     "output_type": "stream",
     "text": [
      "   CustomerId   Surname  CreditScore Geography  Gender  Age  Tenure  \\\n",
      "0    15634602  Hargrave          619    France  Female   42       2   \n",
      "1    15647311      Hill          608     Spain  Female   41       1   \n",
      "2    15619304      Onio          502    France  Female   42       8   \n",
      "3    15701354      Boni          699    France  Female   39       1   \n",
      "4    15737888  Mitchell          850     Spain  Female   43       2   \n",
      "\n",
      "   EstimatedSalary    Balance  NumOfProducts HasCrCard IsActiveMember  Exited  \\\n",
      "0        101348.88       0.00              1       Yes            Yes       1   \n",
      "1        112542.58   83807.86              1       Yes            Yes       0   \n",
      "2        113931.57  159660.80              3        No             No       1   \n",
      "3         93826.63       0.00              2        No             No       0   \n",
      "4         79084.10  125510.82              1       Yes            Yes       0   \n",
      "\n",
      "  CreditScoreRange CreditScoreCategory  \n",
      "0          550-629                 Low  \n",
      "1          550-629                 Low  \n",
      "2          300-549            Very-Low  \n",
      "3          680-749                High  \n",
      "4          750-899           Very-High  \n",
      "   CustomerId   Surname  CreditScore Geography  Gender  Age  Tenure  \\\n",
      "0    15634602  Hargrave          619    France  Female   42       2   \n",
      "1    15647311      Hill          608     Spain  Female   41       1   \n",
      "2    15619304      Onio          502    France  Female   42       8   \n",
      "3    15701354      Boni          699    France  Female   39       1   \n",
      "4    15737888  Mitchell          850     Spain  Female   43       2   \n",
      "\n",
      "   EstimatedSalary    Balance  NumOfProducts HasCrCard IsActiveMember  Exited  \\\n",
      "0        101348.88       0.00              1       Yes            Yes       1   \n",
      "1        112542.58   83807.86              1       Yes            Yes       0   \n",
      "2        113931.57  159660.80              3        No             No       1   \n",
      "3         93826.63       0.00              2        No             No       0   \n",
      "4         79084.10  125510.82              1       Yes            Yes       0   \n",
      "\n",
      "  CreditScoreRange CreditScoreCategory AgeRange     Age_Groups  \n",
      "0          550-629                 Low    41-54  Mature-Adults  \n",
      "1          550-629                 Low    41-54  Mature-Adults  \n",
      "2          300-549            Very-Low    41-54  Mature-Adults  \n",
      "3          680-749                High    35-40         Adults  \n",
      "4          750-899           Very-High    41-54  Mature-Adults  \n"
     ]
    }
   ],
   "source": [
    "bins = [300, 550, 630 ,680, 750, 900]\n",
    "labels_range = ['300-549','550-629','630-679','680-749','750-899']\n",
    "labels_name = ['Very-Low', 'Low', 'Medium', 'High', 'Very-High']\n",
    "\n",
    "df['CreditScoreRange'] = pd.cut(df['CreditScore'], bins = bins, labels = labels_range, right = False)\n",
    "\n",
    "df['CreditScoreCategory'] = pd.cut(df['CreditScore'], bins=bins, labels=labels_name, right=False)\n",
    "print(df.head())\n",
    "\n",
    "bins = [18,35,41,55,100]\n",
    "labels_range = ['18-34','35-40','41-54','55-99']\n",
    "labels_name = ['Young-Adults','Adults', 'Mature-Adults','Seniors']\n",
    "\n",
    "df['AgeRange'] = pd.cut(df['Age'], bins = bins, labels = labels_range, right = False)\n",
    "df['Age_Groups'] = pd.cut(df['Age'], bins = bins, labels = labels_name, right = False)\n",
    "\n",
    "print(df.head())"
   ]
  },
  {
   "cell_type": "code",
   "execution_count": 18,
   "id": "e3e10401-c60c-4767-bfb3-2f45719580c7",
   "metadata": {},
   "outputs": [
    {
     "name": "stdout",
     "output_type": "stream",
     "text": [
      "   CustomerId   Surname  CreditScore Geography  Gender  Age  Tenure  \\\n",
      "0    15634602  Hargrave          619    France  Female   42       2   \n",
      "1    15647311      Hill          608     Spain  Female   41       1   \n",
      "2    15619304      Onio          502    France  Female   42       8   \n",
      "3    15701354      Boni          699    France  Female   39       1   \n",
      "4    15737888  Mitchell          850     Spain  Female   43       2   \n",
      "\n",
      "   EstimatedSalary    Balance  NumOfProducts HasCrCard IsActiveMember  Exited  \\\n",
      "0        101348.88       0.00              1       Yes            Yes       1   \n",
      "1        112542.58   83807.86              1       Yes            Yes       0   \n",
      "2        113931.57  159660.80              3        No             No       1   \n",
      "3         93826.63       0.00              2        No             No       0   \n",
      "4         79084.10  125510.82              1       Yes            Yes       0   \n",
      "\n",
      "  CreditScoreRange CreditScoreCategory AgeRange     Age_Groups   BalanceRange  \\\n",
      "0          550-629                 Low    41-54  Mature-Adults        0-24999   \n",
      "1          550-629                 Low    41-54  Mature-Adults   25000-999999   \n",
      "2          300-549            Very-Low    41-54  Mature-Adults  150000-250899   \n",
      "3          680-749                High    35-40         Adults        0-24999   \n",
      "4          750-899           Very-High    41-54  Mature-Adults  125000-149000   \n",
      "\n",
      "  Balance_Category  \n",
      "0         Very-Low  \n",
      "1              Low  \n",
      "2        Very-High  \n",
      "3         Very-Low  \n",
      "4             High  \n"
     ]
    }
   ],
   "source": [
    "bins = [0,25000,100000,125000,150000,250900]\n",
    "labels_range = ['0-24999','25000-999999','100000-124999','125000-149000','150000-250899']\n",
    "labels_name = ['Very-Low', 'Low','Medium','High','Very-High']\n",
    "\n",
    "df['BalanceRange'] = pd.cut(df['Balance'], bins = bins, labels = labels_range, right = False)\n",
    "df['Balance_Category'] = pd.cut(df['Balance'], bins = bins, labels = labels_name, right = False)\n",
    "print(df.head())"
   ]
  },
  {
   "cell_type": "code",
   "execution_count": 19,
   "id": "9878c90b-a474-4209-8b7d-f0a4c995c12d",
   "metadata": {},
   "outputs": [
    {
     "name": "stdout",
     "output_type": "stream",
     "text": [
      "   CustomerId   Surname  CreditScore Geography  Gender  Age  Tenure  \\\n",
      "0    15634602  Hargrave          619    France  Female   42       2   \n",
      "1    15647311      Hill          608     Spain  Female   41       1   \n",
      "2    15619304      Onio          502    France  Female   42       8   \n",
      "3    15701354      Boni          699    France  Female   39       1   \n",
      "4    15737888  Mitchell          850     Spain  Female   43       2   \n",
      "\n",
      "   EstimatedSalary    Balance  NumOfProducts  ... IsActiveMember Exited  \\\n",
      "0        101348.88       0.00              1  ...            Yes      1   \n",
      "1        112542.58   83807.86              1  ...            Yes      0   \n",
      "2        113931.57  159660.80              3  ...             No      1   \n",
      "3         93826.63       0.00              2  ...             No      0   \n",
      "4         79084.10  125510.82              1  ...            Yes      0   \n",
      "\n",
      "   CreditScoreRange CreditScoreCategory AgeRange     Age_Groups  \\\n",
      "0           550-629                 Low    41-54  Mature-Adults   \n",
      "1           550-629                 Low    41-54  Mature-Adults   \n",
      "2           300-549            Very-Low    41-54  Mature-Adults   \n",
      "3           680-749                High    35-40         Adults   \n",
      "4           750-899           Very-High    41-54  Mature-Adults   \n",
      "\n",
      "    BalanceRange Balance_Category EstimatedSalaryRange  \\\n",
      "0        0-24999         Very-Low        100000-149999   \n",
      "1   25000-999999              Low        100000-149999   \n",
      "2  150000-250899        Very-High        100000-149999   \n",
      "3        0-24999         Very-Low         50000-999999   \n",
      "4  125000-149000             High         50000-999999   \n",
      "\n",
      "  EstimatedSalary_Category  \n",
      "0                     High  \n",
      "1                     High  \n",
      "2                     High  \n",
      "3                   Medium  \n",
      "4                   Medium  \n",
      "\n",
      "[5 rows x 21 columns]\n"
     ]
    }
   ],
   "source": [
    "bins = [10,25000,50000,100000,150000,200000]\n",
    "labels_range = ['10-24999','25000-49999','50000-999999','100000-149999','150000-199999']\n",
    "labels_name = ['Very-Low', 'Low', 'Medium','High','Very-High']\n",
    "\n",
    "df['EstimatedSalaryRange'] = pd.cut(df['EstimatedSalary'], bins = bins , labels = labels_range, right = False)\n",
    "df['EstimatedSalary_Category'] = pd.cut(df['EstimatedSalary'], bins = bins , labels = labels_name, right = False)\n",
    "print(df.head())"
   ]
  },
  {
   "cell_type": "code",
   "execution_count": 20,
   "id": "5e84fd85-0a0f-4c8c-aaa5-840426e6d064",
   "metadata": {},
   "outputs": [
    {
     "name": "stdout",
     "output_type": "stream",
     "text": [
      "   CustomerId   Surname  CreditScore Geography  Gender  Age  Tenure  \\\n",
      "0    15634602  Hargrave          619    France  Female   42       2   \n",
      "1    15647311      Hill          608     Spain  Female   41       1   \n",
      "2    15619304      Onio          502    France  Female   42       8   \n",
      "3    15701354      Boni          699    France  Female   39       1   \n",
      "4    15737888  Mitchell          850     Spain  Female   43       2   \n",
      "\n",
      "   EstimatedSalary    Balance  NumOfProducts  ... CreditScoreRange  \\\n",
      "0        101348.88       0.00              1  ...          550-629   \n",
      "1        112542.58   83807.86              1  ...          550-629   \n",
      "2        113931.57  159660.80              3  ...          300-549   \n",
      "3         93826.63       0.00              2  ...          680-749   \n",
      "4         79084.10  125510.82              1  ...          750-899   \n",
      "\n",
      "  CreditScoreCategory  AgeRange     Age_Groups   BalanceRange  \\\n",
      "0                 Low     41-54  Mature-Adults        0-24999   \n",
      "1                 Low     41-54  Mature-Adults   25000-999999   \n",
      "2            Very-Low     41-54  Mature-Adults  150000-250899   \n",
      "3                High     35-40         Adults        0-24999   \n",
      "4           Very-High     41-54  Mature-Adults  125000-149000   \n",
      "\n",
      "  Balance_Category EstimatedSalaryRange EstimatedSalary_Category TenureRange  \\\n",
      "0         Very-Low        100000-149999                     High         0-2   \n",
      "1              Low        100000-149999                     High         0-2   \n",
      "2        Very-High        100000-149999                     High        6-10   \n",
      "3         Very-Low         50000-999999                   Medium         0-2   \n",
      "4             High         50000-999999                   Medium         0-2   \n",
      "\n",
      "  Tenure_Group  \n",
      "0          New  \n",
      "1          New  \n",
      "2    Long-Term  \n",
      "3          New  \n",
      "4          New  \n",
      "\n",
      "[5 rows x 23 columns]\n"
     ]
    }
   ],
   "source": [
    "bins = [0,3,6,11]\n",
    "labels_range = ['0-2','3-5','6-10']\n",
    "labels_name = ['New', 'Mid-Term', 'Long-Term']\n",
    "\n",
    "df['TenureRange'] = pd.cut(df['Tenure'], bins = bins , labels = labels_range, right = False)\n",
    "df['Tenure_Group'] = pd.cut(df['Tenure'], bins = bins , labels = labels_name, right = False)\n",
    "print(df.head())"
   ]
  },
  {
   "cell_type": "markdown",
   "id": "4f9374df-4024-40f2-b147-93757e7762e2",
   "metadata": {},
   "source": [
    "### Final Dataset Check"
   ]
  },
  {
   "cell_type": "code",
   "execution_count": 21,
   "id": "d3f78125-92cb-4535-8bdf-bdcef8f5f1e8",
   "metadata": {},
   "outputs": [
    {
     "name": "stdout",
     "output_type": "stream",
     "text": [
      "<class 'pandas.core.frame.DataFrame'>\n",
      "RangeIndex: 10000 entries, 0 to 9999\n",
      "Data columns (total 23 columns):\n",
      " #   Column                    Non-Null Count  Dtype   \n",
      "---  ------                    --------------  -----   \n",
      " 0   CustomerId                10000 non-null  int64   \n",
      " 1   Surname                   10000 non-null  object  \n",
      " 2   CreditScore               10000 non-null  int64   \n",
      " 3   Geography                 10000 non-null  object  \n",
      " 4   Gender                    10000 non-null  object  \n",
      " 5   Age                       10000 non-null  int64   \n",
      " 6   Tenure                    10000 non-null  int64   \n",
      " 7   EstimatedSalary           10000 non-null  float64 \n",
      " 8   Balance                   10000 non-null  float64 \n",
      " 9   NumOfProducts             10000 non-null  int64   \n",
      " 10  HasCrCard                 10000 non-null  object  \n",
      " 11  IsActiveMember            10000 non-null  object  \n",
      " 12  Exited                    10000 non-null  int64   \n",
      " 13  CreditScoreRange          10000 non-null  category\n",
      " 14  CreditScoreCategory       10000 non-null  category\n",
      " 15  AgeRange                  10000 non-null  category\n",
      " 16  Age_Groups                10000 non-null  category\n",
      " 17  BalanceRange              10000 non-null  category\n",
      " 18  Balance_Category          10000 non-null  category\n",
      " 19  EstimatedSalaryRange      10000 non-null  category\n",
      " 20  EstimatedSalary_Category  10000 non-null  category\n",
      " 21  TenureRange               10000 non-null  category\n",
      " 22  Tenure_Group              10000 non-null  category\n",
      "dtypes: category(10), float64(2), int64(6), object(5)\n",
      "memory usage: 1.1+ MB\n",
      "None\n"
     ]
    }
   ],
   "source": [
    "print(df.info())"
   ]
  },
  {
   "cell_type": "markdown",
   "id": "3c68c32c-b5d1-4faa-9c9b-978e8b0dd240",
   "metadata": {},
   "source": [
    "### Export Cleaned Dataset"
   ]
  },
  {
   "cell_type": "code",
   "execution_count": 48,
   "id": "ce78b8a6-9650-44b3-bb96-b8629cb2a3aa",
   "metadata": {},
   "outputs": [],
   "source": [
    "df.to_csv(\"bankdata.csv\", index= False)"
   ]
  }
 ],
 "metadata": {
  "kernelspec": {
   "display_name": "Python 3 (ipykernel)",
   "language": "python",
   "name": "python3"
  },
  "language_info": {
   "codemirror_mode": {
    "name": "ipython",
    "version": 3
   },
   "file_extension": ".py",
   "mimetype": "text/x-python",
   "name": "python",
   "nbconvert_exporter": "python",
   "pygments_lexer": "ipython3",
   "version": "3.12.6"
  }
 },
 "nbformat": 4,
 "nbformat_minor": 5
}
